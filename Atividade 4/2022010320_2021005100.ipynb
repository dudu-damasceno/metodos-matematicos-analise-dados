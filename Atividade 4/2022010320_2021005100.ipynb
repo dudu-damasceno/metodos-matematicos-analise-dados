{
 "cells": [
  {
   "attachments": {},
   "cell_type": "markdown",
   "metadata": {},
   "source": [
    "Explore os datasets do Seaborn. Escolha um dataset no qual deseja realizar um teste de hipótese. Exemplo: vou utilizar um teste de hipótese no dataset \"penguins\". Minha hipótese nula é que os pinguins machos e fêmeas têm o mesmo peso. \n",
    "\n",
    "Diferentemente do que foi feito na Atividade Avaliativa 3, você não pode utilizar o dataset inteiro. Você tem que usar uma amostra do dataset que não seja maior que 20% do dataset. Para ver como obter amostras de um dataframe Pandas, consulte: https://datatofish.com/random-rows-pandas-dataframe/\n",
    "\n",
    "O mais importante nesta atividade não é mostrar o código Python e sim descrever seu teste de hipótese de forma clara. Para tanto, utilize células de Markdown para descrever o teste e, ao final, discuta o resultado obtido.\n",
    "\n",
    "Importante: Você NÃO pode usar os datasets penguins e tips."
   ]
  },
  {
   "cell_type": "code",
   "execution_count": 1,
   "metadata": {},
   "outputs": [],
   "source": [
    "#Luis Eduardo Damasceno -2022010320 / Pedro Paulo Moreira Damasceno - 2021005100\n",
    "import pandas as pd\n",
    "import numpy as np\n",
    "import seaborn as sns\n",
    "import scipy.stats as stats\n",
    "from statsmodels.stats import weightstats"
   ]
  },
  {
   "attachments": {},
   "cell_type": "markdown",
   "metadata": {},
   "source": [
    "Considerando o dataset 'iris' do Seaborn. Realizamos um teste z com uma amostra de população de no maximo 20%. Usando como parametro o sepal_length, veremos se houve diferença na estatistica de tamanho das sepalas das flores, a hipotese nula é que não houve diferença e a alternativa é que houve diferença. Calcular com confiança 95%."
   ]
  },
  {
   "cell_type": "code",
   "execution_count": 2,
   "metadata": {},
   "outputs": [
    {
     "name": "stdout",
     "output_type": "stream",
     "text": [
      "Aceitar a hipótese nula\n"
     ]
    }
   ],
   "source": [
    "\n",
    "sns.get_dataset_names()\n",
    "df = sns.load_dataset('iris')\n",
    "# utiliza a função df.sample() para separar 10 % da populaçao\n",
    "tam_sample = int(0.1 * len(df))\n",
    "sample = df.sample(n=tam_sample)\n",
    "\n",
    "# calcula a média e o desvio padrão\n",
    "media = sample['sepal_length'].mean()\n",
    "dp = sample['sepal_length'].std()\n",
    "\n",
    "# defini os parâmetros populacionais\n",
    "media_populacao = df['sepal_length'].mean()\n",
    "dp_populacao = df['sepal_length'].std()\n",
    "\n",
    "# calcula z crit usando confiança de 95%\n",
    "z_crit = stats.norm.ppf((1 + 0.95) / 2)\n",
    "\n",
    "# calcula o valor do teste Z\n",
    "z = (media - media_populacao) / (dp_populacao / (tam_sample ** 0.5))\n",
    "\n",
    "# verifica se o valor do teste Z está dentro do limite região crítica\n",
    "if z > z_crit:\n",
    "    print(\"Rejeitar a hipótese nula\")\n",
    "else:\n",
    "    print(\"Aceitar a hipótese nula\")"
   ]
  },
  {
   "attachments": {},
   "cell_type": "markdown",
   "metadata": {},
   "source": [
    "Se a hipótese nula está certa, indica que não houve diferença entre as sepalas das flores. Isso pode ser interessante pois pode indicar que não houve uma anomalia genética nas flores."
   ]
  }
 ],
 "metadata": {
  "kernelspec": {
   "display_name": "base",
   "language": "python",
   "name": "python3"
  },
  "language_info": {
   "codemirror_mode": {
    "name": "ipython",
    "version": 3
   },
   "file_extension": ".py",
   "mimetype": "text/x-python",
   "name": "python",
   "nbconvert_exporter": "python",
   "pygments_lexer": "ipython3",
   "version": "3.10.9"
  },
  "orig_nbformat": 4
 },
 "nbformat": 4,
 "nbformat_minor": 2
}
