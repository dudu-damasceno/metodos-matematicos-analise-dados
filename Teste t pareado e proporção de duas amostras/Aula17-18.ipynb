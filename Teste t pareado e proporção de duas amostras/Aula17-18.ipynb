{
 "cells": [
  {
   "attachments": {},
   "cell_type": "markdown",
   "metadata": {},
   "source": [
    "## Teste t Pareado"
   ]
  },
  {
   "attachments": {},
   "cell_type": "markdown",
   "metadata": {},
   "source": [
    "A pressão sistólica de 5 pacientes foi medida antes e depois da administração de um medicamento. Houve alteração na pressão? Nível de confiança = 95%."
   ]
  },
  {
   "cell_type": "code",
   "execution_count": 1,
   "metadata": {},
   "outputs": [],
   "source": [
    "import pandas as pd\n",
    "import numpy as np\n",
    "import seaborn as sns\n",
    "import matplotlib.pyplot as plt\n",
    "import scipy.stats as stats\n",
    "from statsmodels.stats import proportion"
   ]
  },
  {
   "cell_type": "code",
   "execution_count": 2,
   "metadata": {},
   "outputs": [],
   "source": [
    "p_antes = [120, 122, 143, 100, 109]\n",
    "p_depois = [122, 120, 141, 109, 109]"
   ]
  },
  {
   "cell_type": "code",
   "execution_count": 3,
   "metadata": {},
   "outputs": [
    {
     "data": {
      "text/plain": [
       "TtestResult(statistic=-0.6864064729836442, pvalue=0.5301776477578163, df=4)"
      ]
     },
     "execution_count": 3,
     "metadata": {},
     "output_type": "execute_result"
    }
   ],
   "source": [
    "stats.ttest_rel(p_antes, p_depois)"
   ]
  },
  {
   "attachments": {},
   "cell_type": "markdown",
   "metadata": {},
   "source": [
    "Exercício \\\n",
    "Um fabricante de tacos de golfe afirma que os golfistas podem diminuir seus placares usando os tacos de golfe recém-projetados por ele. Oito jogadores de golfe são escolhidos aleatoriamente e é pedido a cada um que forneça seu mais recente placar. Após usar os novos tacos por um mês, é pedido novamente aos jogadores que forneçam seus placares mais recentes. Os placares para cada um são mostrados na tabela. Assumindo que os placares de golfe são distribuídos normalmente, existe evidência suficiente para apoiar a afirmação do fabricante para um nível de significância de 10%? \\\n",
    "Placar (tacos antigos) = [89, 84, 96, 82, 74, 92, 85, 91] \\\n",
    "Placar (tacos novos) = [83, 83, 92, 84, 76, 91, 80, 91] \\\n",
    "A) Calcular manualmente \\\n",
    "B) Calcular usando o Python"
   ]
  },
  {
   "cell_type": "code",
   "execution_count": 15,
   "metadata": {},
   "outputs": [
    {
     "name": "stdout",
     "output_type": "stream",
     "text": [
      "[6, 1, 4, -2, -2, 1, 5, 0]\n"
     ]
    },
    {
     "data": {
      "text/plain": [
       "1.4982595848788067"
      ]
     },
     "execution_count": 15,
     "metadata": {},
     "output_type": "execute_result"
    }
   ],
   "source": [
    "t_antigo = [89, 84, 96, 82, 74, 92, 85, 91]\n",
    "t_novo = [83, 83, 92, 84, 76, 91, 80, 91]\n",
    "diferenca = [a - b for a, b in zip(t_antigo, t_novo)]\n",
    "import statistics as st\n",
    "desvio = st.stdev(diferenca)\n",
    "media = np.mean(diferenca)\n",
    "t_calc = media/(desvio/np.sqrt(8))\n",
    "t_calc\n",
    "\n",
    "#Muito proximo, então n é possivel afirmar que diminuiu"
   ]
  },
  {
   "cell_type": "code",
   "execution_count": 17,
   "metadata": {},
   "outputs": [
    {
     "data": {
      "text/plain": [
       "TtestResult(statistic=1.4982595848788067, pvalue=0.9111307581466012, df=7)"
      ]
     },
     "execution_count": 17,
     "metadata": {},
     "output_type": "execute_result"
    }
   ],
   "source": [
    "stats.ttest_rel(t_antigo, t_novo, alternative='less')"
   ]
  },
  {
   "attachments": {},
   "cell_type": "markdown",
   "metadata": {},
   "source": [
    "## Teste de Duas Proporções"
   ]
  },
  {
   "attachments": {},
   "cell_type": "markdown",
   "metadata": {},
   "source": [
    "Em uma amostra de 200 itens de um fornecedor A foram encontrados 30 itens defeituosos. Em outra amostra de 100 itens de um fornecedor B foram encontrados 10 defeituosos. Há uma diferença significativa na qualidade dos produtos desses fornecedores? Nível de confiança: 95%."
   ]
  },
  {
   "cell_type": "code",
   "execution_count": 4,
   "metadata": {},
   "outputs": [
    {
     "data": {
      "text/plain": [
       "<class 'statsmodels.stats.base.HolderTuple'>\n",
       "statistic = 1.1989578808281796\n",
       "pvalue = 0.2305443235633593\n",
       "compare = 'diff'\n",
       "method = 'score'\n",
       "variance = 0.001739130434782609\n",
       "alternative = 'two-sided'\n",
       "prop1_null = 0.13333333333333333\n",
       "prop2_null = 0.13333333333333333\n",
       "tuple = (1.1989578808281796, 0.2305443235633593)\n",
       "diff = 0.04999999999999999\n",
       "ratio = 1.4999999999999998\n",
       "odds_ratio = 1.588235294117647\n",
       "value = 0"
      ]
     },
     "execution_count": 4,
     "metadata": {},
     "output_type": "execute_result"
    }
   ],
   "source": [
    "\n",
    "proportion.test_proportions_2indep(30, 200, 10, 100, method='score')\n",
    "#confirmo a hipótese nula, pois o pvalue é maior que o nivel de confiança de 0.05"
   ]
  },
  {
   "attachments": {},
   "cell_type": "markdown",
   "metadata": {},
   "source": [
    "Exercício \\\n",
    "Em um estudo de 200 mulheres adultas selecionadas aleatoriamente e 250 homens adultos, ambos usuários de Internet, 30% das mulheres e 38% dos homens disseram que planejam comprar online ao menos uma vez no mês seguinte. Ao nível de confiança de 90%, testar a afirmação de que há uma diferença entre a proporção de homens e mulheres, usuários de Internet, que planejam comprar online. \\\n",
    "A) Calcular manualmente \\\n",
    "B) Calcular utilizando o Python"
   ]
  },
  {
   "attachments": {},
   "cell_type": "markdown",
   "metadata": {},
   "source": [
    "A hipótese nula sempre sera que eles são iguais se for de duas caudas"
   ]
  },
  {
   "cell_type": "code",
   "execution_count": 5,
   "metadata": {},
   "outputs": [
    {
     "name": "stdout",
     "output_type": "stream",
     "text": [
      "0.34444444444444444\n",
      "-8.129425925439808\n"
     ]
    },
    {
     "data": {
      "text/plain": [
       "<class 'statsmodels.stats.base.HolderTuple'>\n",
       "statistic = -1.772643092104187\n",
       "pvalue = 0.0762878664367035\n",
       "compare = 'diff'\n",
       "method = 'score'\n",
       "variance = 0.0020367483296213807\n",
       "alternative = 'two-sided'\n",
       "prop1_null = 0.34444444444444444\n",
       "prop2_null = 0.34444444444444444\n",
       "tuple = (-1.772643092104187, 0.0762878664367035)\n",
       "diff = -0.08000000000000002\n",
       "ratio = 0.7894736842105263\n",
       "odds_ratio = 0.6992481203007519\n",
       "value = 0"
      ]
     },
     "execution_count": 5,
     "metadata": {},
     "output_type": "execute_result"
    }
   ],
   "source": [
    "p = (200*0.30 + 250*0.38) / (200 + 250)\n",
    "print(p)  # Output: 0.34444444444444444\n",
    "\n",
    "z_cal = 0.30 - 0.38 / np.sqrt(p * (1 - p) * ((1/200) + (1/250)))\n",
    "print(z_cal)\n",
    "   "
   ]
  },
  {
   "cell_type": "code",
   "execution_count": 36,
   "metadata": {},
   "outputs": [
    {
     "data": {
      "text/plain": [
       "<class 'statsmodels.stats.base.HolderTuple'>\n",
       "statistic = -1.772643092104187\n",
       "pvalue = 0.0762878664367035\n",
       "compare = 'diff'\n",
       "method = 'score'\n",
       "variance = 0.0020367483296213807\n",
       "alternative = 'two-sided'\n",
       "prop1_null = 0.34444444444444444\n",
       "prop2_null = 0.34444444444444444\n",
       "tuple = (-1.772643092104187, 0.0762878664367035)\n",
       "diff = -0.08000000000000002\n",
       "ratio = 0.7894736842105263\n",
       "odds_ratio = 0.6992481203007519\n",
       "value = 0"
      ]
     },
     "execution_count": 36,
     "metadata": {},
     "output_type": "execute_result"
    }
   ],
   "source": [
    "\n",
    "proportion.test_proportions_2indep(60, 200, 95, 250, method=\"score\")\n",
    "#Rejeita a hipótese nula\n"
   ]
  }
 ],
 "metadata": {
  "kernelspec": {
   "display_name": "base",
   "language": "python",
   "name": "python3"
  },
  "language_info": {
   "codemirror_mode": {
    "name": "ipython",
    "version": 3
   },
   "file_extension": ".py",
   "mimetype": "text/x-python",
   "name": "python",
   "nbconvert_exporter": "python",
   "pygments_lexer": "ipython3",
   "version": "3.10.13"
  },
  "orig_nbformat": 4
 },
 "nbformat": 4,
 "nbformat_minor": 2
}
