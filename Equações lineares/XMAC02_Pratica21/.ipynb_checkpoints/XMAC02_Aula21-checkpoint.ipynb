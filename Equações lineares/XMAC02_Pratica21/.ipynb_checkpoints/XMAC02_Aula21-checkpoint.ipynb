{
 "cells": [
  {
   "cell_type": "markdown",
   "metadata": {},
   "source": [
    "### Normal equations"
   ]
  },
  {
   "cell_type": "code",
   "execution_count": 25,
   "metadata": {},
   "outputs": [],
   "source": [
    "import numpy as np\n",
    "\n",
    "x1s = [     3,      2,      4,      2,      3,      2,      5,      4]  # bedrooms\n",
    "x2s = [     2,      1,      3,      1,      2,      2,      3,      2]  # bathrooms\n",
    "ys  = [48_800, 44_300, 53_800, 44_200, 49_700, 44_900, 58_400, 52_900]  # price\n",
    "\n",
    "x1 = np.array(x1s)\n",
    "x2 = np.array(x2s)\n",
    "y  = np.array(ys)"
   ]
  },
  {
   "cell_type": "code",
   "execution_count": 26,
   "metadata": {},
   "outputs": [
    {
     "data": {
      "text/plain": [
       "(8, 25, 16, 397000, 1281100, 817700, 87, 36, 55)"
      ]
     },
     "execution_count": 26,
     "metadata": {},
     "output_type": "execute_result"
    }
   ],
   "source": [
    "n        = len(ys)\n",
    "sum_x1   = np.sum(x1)\n",
    "sum_x2   = np.sum(x2)\n",
    "sum_y    = np.sum(y)\n",
    "sum_x1y  = np.sum(x1*y)\n",
    "sum_x2y  = np.sum(x2*y)\n",
    "sum_x1x1 = np.sum(x1*x1)\n",
    "sum_x2x2 = np.sum(x2*x2)\n",
    "sum_x1x2 = np.sum(x1*x2)\n",
    "\n",
    "n, sum_x1, sum_x2, sum_y, sum_x1y, sum_x2y, sum_x1x1, sum_x2x2 , sum_x1x2"
   ]
  },
  {
   "cell_type": "code",
   "execution_count": 27,
   "metadata": {},
   "outputs": [
    {
     "name": "stdout",
     "output_type": "stream",
     "text": [
      "[[ 8 25 16]\n",
      " [25 87 55]\n",
      " [16 55 36]]\n",
      "[ 397000 1281100  817700]\n"
     ]
    }
   ],
   "source": [
    "# Sistema de equações lineares normais\n",
    "A = np.array([n, sum_x1, sum_x2, sum_x1, sum_x1x1, sum_x1x2, sum_x2, sum_x1x2, sum_x2x2])\n",
    "A = A.reshape(3,3)\n",
    "b = np.array([sum_y, sum_x1y, sum_x2y])\n",
    "print(A)\n",
    "print(b)"
   ]
  },
  {
   "cell_type": "code",
   "execution_count": 28,
   "metadata": {},
   "outputs": [
    {
     "data": {
      "text/plain": [
       "array([35191.66666667,  4133.33333333,   758.33333333])"
      ]
     },
     "execution_count": 28,
     "metadata": {},
     "output_type": "execute_result"
    }
   ],
   "source": [
    "# Resolvendo o sistema de equações\n",
    "solucao = np.linalg.solve(A, b)\n",
    "solucao"
   ]
  },
  {
   "cell_type": "code",
   "execution_count": 29,
   "metadata": {},
   "outputs": [
    {
     "name": "stdout",
     "output_type": "stream",
     "text": [
      "35191.666666666664\n"
     ]
    }
   ],
   "source": [
    "β0 = solucao[0]\n",
    "β1 = solucao[1]\n",
    "β2 = solucao[2]\n",
    "print(β0)"
   ]
  },
  {
   "cell_type": "markdown",
   "metadata": {},
   "source": [
    "### Fazendo a predição de preços de casas"
   ]
  },
  {
   "cell_type": "code",
   "execution_count": 30,
   "metadata": {},
   "outputs": [],
   "source": [
    "def home_price(β0, β1, β2, x1, x2):\n",
    "    \"\"\"\n",
    "    Estimando o preço de uma casa\n",
    "    @param β0, β1, β2 são os coeficientes de regressão\n",
    "    @param x1 é o número de quartos\n",
    "    @param x2 é o número de banheiros\n",
    "    @return o valor estimado da casa\n",
    "    \"\"\"\n",
    "    return β0 + β1*x1 + β2*x2"
   ]
  },
  {
   "cell_type": "code",
   "execution_count": 31,
   "metadata": {},
   "outputs": [
    {
     "name": "stdout",
     "output_type": "stream",
     "text": [
      "Preço estimado de uma casa com 2 quartos e 1 banheiros: $44,216.67\n"
     ]
    }
   ],
   "source": [
    "x1 = 2  # quartos\n",
    "x2 = 1  # banheiros\n",
    "\n",
    "y_hat = home_price(β0, β1, β2, x1, x2)\n",
    "print(f'Preço estimado de uma casa com {x1} quartos e {x2} banheiros: ${y_hat:,.2f}')"
   ]
  },
  {
   "cell_type": "code",
   "execution_count": 32,
   "metadata": {},
   "outputs": [
    {
     "name": "stdout",
     "output_type": "stream",
     "text": [
      "Preço estimado de uma casa com 5 quartos e 3 banheiros: $58,133.33\n"
     ]
    }
   ],
   "source": [
    "x1 = 5  # quartos\n",
    "x2 = 3  # banheiros\n",
    "\n",
    "y_hat = home_price(β0, β1, β2, x1, x2)\n",
    "print(f'Preço estimado de uma casa com {x1} quartos e {x2} banheiros: ${y_hat:,.2f}')"
   ]
  },
  {
   "cell_type": "markdown",
   "metadata": {},
   "source": [
    "### Exercício 1"
   ]
  },
  {
   "cell_type": "markdown",
   "metadata": {},
   "source": [
    "Para garantir uma dieta balanceada, uma pessoa deve ingerir diferentes alimentos a fim de garantir a absorção adequada de vitaminas. Assuma que uma dieta balanceada deva conter:\n",
    "\n",
    "170 unidades de vitamina A \\\n",
    "180 unidades de vitamina B \\\n",
    "140 unidades de vitamina C \\\n",
    "180 unidades de vitamina D \\\n",
    "350 unidades de vitamina E\n",
    "\n",
    "Sua tarefa é encontrar a quantidade necessária de diferentes alimentos para que seja possível obter a quantidade necessária de cada vitamina. A tabela a seguir apresenta a quantidade de unidades de vitamina em cada unidade de alimento.\n",
    "\n",
    "<img src=\"tabela.png\">\n"
   ]
  },
  {
   "cell_type": "code",
   "execution_count": null,
   "metadata": {},
   "outputs": [],
   "source": []
  },
  {
   "cell_type": "markdown",
   "metadata": {},
   "source": [
    "### Exercício 2"
   ]
  },
  {
   "cell_type": "markdown",
   "metadata": {},
   "source": [
    "Maria comprou 12 maçãs e 6 pêras por $102 em um certo dia. No dia seguinte, ela comprou 10 maçãs e 10 pêras por $110. Assumindo que o preço das frutas não mudou nesses dias, quanto ela pagou por cada maçã e por cada pêra?"
   ]
  },
  {
   "cell_type": "code",
   "execution_count": null,
   "metadata": {},
   "outputs": [],
   "source": []
  }
 ],
 "metadata": {
  "kernelspec": {
   "display_name": "Python 3 (ipykernel)",
   "language": "python",
   "name": "python3"
  },
  "language_info": {
   "codemirror_mode": {
    "name": "ipython",
    "version": 3
   },
   "file_extension": ".py",
   "mimetype": "text/x-python",
   "name": "python",
   "nbconvert_exporter": "python",
   "pygments_lexer": "ipython3",
   "version": "3.10.9"
  }
 },
 "nbformat": 4,
 "nbformat_minor": 4
}
