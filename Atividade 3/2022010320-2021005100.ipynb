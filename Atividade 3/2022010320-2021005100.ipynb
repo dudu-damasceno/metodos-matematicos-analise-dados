{
 "cells": [
  {
   "attachments": {},
   "cell_type": "markdown",
   "metadata": {},
   "source": [
    "Luis Eduardo Damasceno - 2022010320 / Pedro Paulo Moreira Damasceno - 2021005100"
   ]
  },
  {
   "attachments": {},
   "cell_type": "markdown",
   "metadata": {},
   "source": [
    "Questão 1 \\\n",
    "Considere duas máquinas de evase de perfumes A e B. Simule uma amostra de 50 frascos produzidos pela máquina A, com média 200 ml e desvio padrão de 3 ml. Em seguida, simule uma amostra de 50 frascos produzidos pela máquina B, com média 202 ml e desvio padrão de 2 ml. \\\n",
    "Por fim, realize um teste Z com as duas amostras e informe se as máquinas A e B estão produzindo perfumes da mesma forma. Calculcar com 95% de confiança."
   ]
  },
  {
   "cell_type": "code",
   "execution_count": 15,
   "metadata": {},
   "outputs": [],
   "source": [
    "import pandas as pd\n",
    "import numpy as np\n",
    "import seaborn as sns\n",
    "import matplotlib.pyplot as plt\n",
    "import scipy.stats as stats\n",
    "from statsmodels.stats import weightstats"
   ]
  },
  {
   "cell_type": "code",
   "execution_count": 16,
   "metadata": {},
   "outputs": [
    {
     "data": {
      "text/plain": [
       "(-3.6505552877607403, 0.00026167397308362895)"
      ]
     },
     "execution_count": 16,
     "metadata": {},
     "output_type": "execute_result"
    }
   ],
   "source": [
    "amostra_A = np.random.normal(200, 3, 50)\n",
    "amostra_B = np.random.normal(202, 2, 50)\n",
    "weightstats.ztest(amostra_A, amostra_B, alternative='two-sided')\n",
    "#Rejeita Hipótese Nula, não estão produzindo da mesma forma."
   ]
  },
  {
   "attachments": {},
   "cell_type": "markdown",
   "metadata": {},
   "source": [
    "Questão 2 \\\n",
    "Considere o dataset \"penguins\" do Seaborn. Realize um teste de hipótese Z no qual a hipótese nula seja que pinguins machos têm o mesmo peso que pinguins fêmeas. O peso de cada pinguim está no campo \"body_mass_g\". Note que é preciso eliminar as linhas que contém NaN nos campos \"body_mass_g\" e \"sex\". Calcular com 95% de confiança."
   ]
  },
  {
   "cell_type": "code",
   "execution_count": 17,
   "metadata": {},
   "outputs": [
    {
     "data": {
      "text/html": [
       "<div>\n",
       "<style scoped>\n",
       "    .dataframe tbody tr th:only-of-type {\n",
       "        vertical-align: middle;\n",
       "    }\n",
       "\n",
       "    .dataframe tbody tr th {\n",
       "        vertical-align: top;\n",
       "    }\n",
       "\n",
       "    .dataframe thead th {\n",
       "        text-align: right;\n",
       "    }\n",
       "</style>\n",
       "<table border=\"1\" class=\"dataframe\">\n",
       "  <thead>\n",
       "    <tr style=\"text-align: right;\">\n",
       "      <th></th>\n",
       "      <th>species</th>\n",
       "      <th>island</th>\n",
       "      <th>bill_length_mm</th>\n",
       "      <th>bill_depth_mm</th>\n",
       "      <th>flipper_length_mm</th>\n",
       "      <th>body_mass_g</th>\n",
       "      <th>sex</th>\n",
       "    </tr>\n",
       "  </thead>\n",
       "  <tbody>\n",
       "    <tr>\n",
       "      <th>0</th>\n",
       "      <td>Adelie</td>\n",
       "      <td>Torgersen</td>\n",
       "      <td>39.1</td>\n",
       "      <td>18.7</td>\n",
       "      <td>181.0</td>\n",
       "      <td>3750.0</td>\n",
       "      <td>Male</td>\n",
       "    </tr>\n",
       "    <tr>\n",
       "      <th>1</th>\n",
       "      <td>Adelie</td>\n",
       "      <td>Torgersen</td>\n",
       "      <td>39.5</td>\n",
       "      <td>17.4</td>\n",
       "      <td>186.0</td>\n",
       "      <td>3800.0</td>\n",
       "      <td>Female</td>\n",
       "    </tr>\n",
       "    <tr>\n",
       "      <th>2</th>\n",
       "      <td>Adelie</td>\n",
       "      <td>Torgersen</td>\n",
       "      <td>40.3</td>\n",
       "      <td>18.0</td>\n",
       "      <td>195.0</td>\n",
       "      <td>3250.0</td>\n",
       "      <td>Female</td>\n",
       "    </tr>\n",
       "    <tr>\n",
       "      <th>3</th>\n",
       "      <td>Adelie</td>\n",
       "      <td>Torgersen</td>\n",
       "      <td>NaN</td>\n",
       "      <td>NaN</td>\n",
       "      <td>NaN</td>\n",
       "      <td>NaN</td>\n",
       "      <td>NaN</td>\n",
       "    </tr>\n",
       "    <tr>\n",
       "      <th>4</th>\n",
       "      <td>Adelie</td>\n",
       "      <td>Torgersen</td>\n",
       "      <td>36.7</td>\n",
       "      <td>19.3</td>\n",
       "      <td>193.0</td>\n",
       "      <td>3450.0</td>\n",
       "      <td>Female</td>\n",
       "    </tr>\n",
       "  </tbody>\n",
       "</table>\n",
       "</div>"
      ],
      "text/plain": [
       "  species     island  bill_length_mm  bill_depth_mm  flipper_length_mm  \\\n",
       "0  Adelie  Torgersen            39.1           18.7              181.0   \n",
       "1  Adelie  Torgersen            39.5           17.4              186.0   \n",
       "2  Adelie  Torgersen            40.3           18.0              195.0   \n",
       "3  Adelie  Torgersen             NaN            NaN                NaN   \n",
       "4  Adelie  Torgersen            36.7           19.3              193.0   \n",
       "\n",
       "   body_mass_g     sex  \n",
       "0       3750.0    Male  \n",
       "1       3800.0  Female  \n",
       "2       3250.0  Female  \n",
       "3          NaN     NaN  \n",
       "4       3450.0  Female  "
      ]
     },
     "execution_count": 17,
     "metadata": {},
     "output_type": "execute_result"
    }
   ],
   "source": [
    "sns.get_dataset_names()\n",
    "penguins = sns.load_dataset('penguins')\n",
    "penguins.head()"
   ]
  },
  {
   "cell_type": "code",
   "execution_count": 18,
   "metadata": {},
   "outputs": [
    {
     "data": {
      "text/plain": [
       "(8.541720337994516, 1.3223815615216483e-17)"
      ]
     },
     "execution_count": 18,
     "metadata": {},
     "output_type": "execute_result"
    }
   ],
   "source": [
    "homem = penguins[penguins['sex']=='Male']['body_mass_g']\n",
    "mulher = penguins[penguins['sex']=='Female']['body_mass_g']\n",
    "weightstats.ztest(homem, mulher)\n",
    "#Confirma Hipótese Nula"
   ]
  },
  {
   "attachments": {},
   "cell_type": "markdown",
   "metadata": {},
   "source": [
    "Questão 3 \\\n",
    "Avaliou-se em 240 Kg o desvio padrão das tensões de ruptura de certos cabos produzidos por uma fábrica. Depois de ter sido introduzida uma mudança no processo de fabricação desses cabos, as tensões de ruptura de uma amostra de 8 cabos apresentaram o desvio padrão de 300 Kg. É possível afirmar que houve mudança no desvio padrão (nível de confiança: 90%)."
   ]
  },
  {
   "cell_type": "code",
   "execution_count": 19,
   "metadata": {},
   "outputs": [
    {
     "data": {
      "text/plain": [
       "14.0625"
      ]
     },
     "execution_count": 19,
     "metadata": {},
     "output_type": "execute_result"
    }
   ],
   "source": [
    "Chi_sq_cal = (10-1)*(300**2)/(240**2)\n",
    "Chi_sq_cal\n",
    "#Chi_sq_critico = 14,07\n",
    "#Não é possivel afirmar que houve mudança"
   ]
  },
  {
   "attachments": {},
   "cell_type": "markdown",
   "metadata": {},
   "source": [
    "Questão 4 \\\n",
    "As especificações dos pentes de memória RAM para computadores fabricados pela Companhia Boa Memória indicam que a porcentagem de pentes defeituosos não excede 5%. Uma amostra de cem desses pentes apresentou sete defeituosos. \\\n",
    "Com base nesse resultado, podemos afirmar que as especificações estão incorretas? (Nível de confiança = 95%)."
   ]
  },
  {
   "cell_type": "code",
   "execution_count": 20,
   "metadata": {},
   "outputs": [
    {
     "name": "stderr",
     "output_type": "stream",
     "text": [
      "C:\\Users\\dudud\\AppData\\Local\\Temp\\ipykernel_1152\\1171535608.py:1: DeprecationWarning: 'binom_test' is deprecated in favour of 'binomtest' from version 1.7.0 and will be removed in Scipy 1.12.0.\n",
      "  stats.binom_test(7, 100, p =0.05, alternative='two-sided')\n"
     ]
    },
    {
     "data": {
      "text/plain": [
       "0.3522489971702887"
      ]
     },
     "execution_count": 20,
     "metadata": {},
     "output_type": "execute_result"
    }
   ],
   "source": [
    "stats.binom_test(7, 100, p =0.05, alternative='two-sided')\n",
    "#Não é possível afirmar que as especificações estão incorretas"
   ]
  },
  {
   "attachments": {},
   "cell_type": "markdown",
   "metadata": {},
   "source": [
    "Questão 5 \\\n",
    "Sabe-se que o consumo mensal “per capita” de um determinado produto tem distribuição normal, com desvio padrão 2 Kg. A diretoria de uma empresa que fabrica esse produto resolveu que retiraria o produto da linha de produção se a média de consumo “per capita” fosse menor que 8 Kg. Foi realizada uma pesquisa de mercado, tomando-se uma amostra de 25 indivíduos e verificou-se que: Σ xi = 180 Kg, onde xi representa o consumo mensal do i-ésimo indivíduo da amostra. \\\n",
    "a) Com base nos resultados da amostra e com um nível de confiança de 95%, qual deveria ser a decisão da diretoria? \\\n",
    "b) Se a diretoria tivesse fixado o nível de confiança em 99% a decisão seria a mesma? Justifique sua resposta."
   ]
  },
  {
   "cell_type": "code",
   "execution_count": 21,
   "metadata": {},
   "outputs": [
    {
     "name": "stdout",
     "output_type": "stream",
     "text": [
      "-1.9999999999999996\n"
     ]
    }
   ],
   "source": [
    "#a)\n",
    "#std= 2\n",
    "#media0 = 8\n",
    "#media new = 7.2\n",
    "media_a = 180/25\n",
    "zcalc = (media_a -8) / (2/np.sqrt(25))\n",
    "#zcritico = 1.96\n",
    "print(zcalc)\n",
    "#Hipótese nula rejeitada, pode se dizer que o produto teria que ser retirado da linha de produção\n",
    "\n"
   ]
  },
  {
   "cell_type": "code",
   "execution_count": 22,
   "metadata": {},
   "outputs": [
    {
     "name": "stdout",
     "output_type": "stream",
     "text": [
      "-1.9999999999999996\n"
     ]
    }
   ],
   "source": [
    "#b)\n",
    "zcritico = 2,575\n",
    "print(zcalc)\n",
    "#Seria diferente porque o zcalc esta dentro do intervalo de zcritico,\n",
    "#então a hipotese nula seria aceita e a linha de produção continuaria."
   ]
  }
 ],
 "metadata": {
  "kernelspec": {
   "display_name": "base",
   "language": "python",
   "name": "python3"
  },
  "language_info": {
   "codemirror_mode": {
    "name": "ipython",
    "version": 3
   },
   "file_extension": ".py",
   "mimetype": "text/x-python",
   "name": "python",
   "nbconvert_exporter": "python",
   "pygments_lexer": "ipython3",
   "version": "3.10.9"
  },
  "orig_nbformat": 4
 },
 "nbformat": 4,
 "nbformat_minor": 2
}
