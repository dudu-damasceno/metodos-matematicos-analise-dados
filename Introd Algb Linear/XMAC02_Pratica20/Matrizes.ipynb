{
 "cells": [
  {
   "cell_type": "markdown",
   "metadata": {},
   "source": [
    "### Zero e Identidade"
   ]
  },
  {
   "cell_type": "code",
   "execution_count": 10,
   "metadata": {},
   "outputs": [
    {
     "name": "stdout",
     "output_type": "stream",
     "text": [
      "np.zeros([3, 3]):\n",
      "[[0. 0. 0.]\n",
      " [0. 0. 0.]\n",
      " [0. 0. 0.]]\n"
     ]
    }
   ],
   "source": [
    "import numpy as np\n",
    "print('np.zeros([3, 3]):')\n",
    "print(np.zeros([3, 3]))"
   ]
  },
  {
   "cell_type": "code",
   "execution_count": 11,
   "metadata": {},
   "outputs": [
    {
     "name": "stdout",
     "output_type": "stream",
     "text": [
      "np.identity(3):\n",
      "[[1. 0. 0.]\n",
      " [0. 1. 0.]\n",
      " [0. 0. 1.]]\n"
     ]
    }
   ],
   "source": [
    "#Matriz identidade é aquela matriz quadrada que possui 1's na diagonal principal e 0's ao redor\n",
    "print('np.identity(3):')\n",
    "print(np.identity(3))"
   ]
  },
  {
   "cell_type": "markdown",
   "metadata": {},
   "source": [
    "### Matrix addition"
   ]
  },
  {
   "cell_type": "code",
   "execution_count": 3,
   "metadata": {},
   "outputs": [
    {
     "name": "stdout",
     "output_type": "stream",
     "text": [
      "A:\n",
      "[[ 1  4  0]\n",
      " [-2  6  5]]\n",
      "\n",
      "A + O:\n",
      "[[ 1.  4.  0.]\n",
      " [-2.  6.  5.]]\n",
      "\n",
      "O + A:\n",
      "[[ 1.  4.  0.]\n",
      " [-2.  6.  5.]]\n"
     ]
    }
   ],
   "source": [
    "#Só é possivel somar matrizes com o msm numero de linhas e colunas\n",
    "A = np.array([[ 1, 4, 0],\n",
    "              [-2, 6, 5]])\n",
    "O = np.zeros([2, 3])\n",
    "\n",
    "print('A:')\n",
    "print(A)\n",
    "print()\n",
    "print('A + O:')\n",
    "print(A + O)\n",
    "print()\n",
    "print('O + A:')\n",
    "print(O + A)"
   ]
  },
  {
   "cell_type": "code",
   "execution_count": 4,
   "metadata": {},
   "outputs": [
    {
     "name": "stdout",
     "output_type": "stream",
     "text": [
      "A:\n",
      "[[ 1  4  0]\n",
      " [-2  6  5]]\n",
      "\n",
      "B:\n",
      "[[-3  1 -1]\n",
      " [ 3  0  2]]\n",
      "\n",
      "A + B:\n",
      "[[-2  5 -1]\n",
      " [ 1  6  7]]\n",
      "\n",
      "B + A:\n",
      "[[-2  5 -1]\n",
      " [ 1  6  7]]\n"
     ]
    }
   ],
   "source": [
    "A = np.array([[ 1, 4, 0],\n",
    "              [-2, 6, 5]])\n",
    "B = np.array([[-3, 1, -1],\n",
    "              [3, 0, 2]])\n",
    "\n",
    "print('A:')\n",
    "print(A)\n",
    "print()\n",
    "print('B:')\n",
    "print(B)\n",
    "print()\n",
    "print('A + B:')\n",
    "print(A + B)\n",
    "print()\n",
    "print('B + A:')\n",
    "print(B + A)"
   ]
  },
  {
   "cell_type": "markdown",
   "metadata": {},
   "source": [
    "### Multiplicação escalar"
   ]
  },
  {
   "cell_type": "code",
   "execution_count": 5,
   "metadata": {},
   "outputs": [
    {
     "name": "stdout",
     "output_type": "stream",
     "text": [
      "A:\n",
      "[[ 1  4  0]\n",
      " [-2  6  5]]\n",
      "\n",
      "2*A:\n",
      "[[ 2  8  0]\n",
      " [-4 12 10]]\n"
     ]
    }
   ],
   "source": [
    "A = np.array([[ 1, 4, 0],\n",
    "              [-2, 6, 5]])\n",
    "\n",
    "print('A:')\n",
    "print(A)\n",
    "print()\n",
    "print('2*A:')\n",
    "print(2*A)"
   ]
  },
  {
   "cell_type": "markdown",
   "metadata": {},
   "source": [
    "# Multiplicação de matrizes"
   ]
  },
  {
   "cell_type": "code",
   "execution_count": 6,
   "metadata": {},
   "outputs": [
    {
     "name": "stdout",
     "output_type": "stream",
     "text": [
      "A:\n",
      "[[1 2 3]\n",
      " [4 5 6]\n",
      " [7 8 9]]\n",
      "\n",
      "A@I:\n",
      "[[1. 2. 3.]\n",
      " [4. 5. 6.]\n",
      " [7. 8. 9.]]\n",
      "\n",
      "I@A:\n",
      "[[1. 2. 3.]\n",
      " [4. 5. 6.]\n",
      " [7. 8. 9.]]\n"
     ]
    }
   ],
   "source": [
    "A = np.array([[1, 2, 3],\n",
    "              [4, 5, 6],\n",
    "              [7, 8, 9]])\n",
    "I = np.identity(3)\n",
    "\n",
    "print('A:')\n",
    "print(A)\n",
    "print()\n",
    "print('A@I:')\n",
    "print(A@I)\n",
    "print()\n",
    "print('I@A:')\n",
    "print(I@A)"
   ]
  },
  {
   "cell_type": "code",
   "execution_count": 7,
   "metadata": {},
   "outputs": [
    {
     "name": "stdout",
     "output_type": "stream",
     "text": [
      "Quant. frutas F:\n",
      "[[ 6  3 10]\n",
      " [ 4  8  5]]\n",
      "\n",
      "Preços P:\n",
      "[[0.1  0.15]\n",
      " [0.4  0.3 ]\n",
      " [0.1  0.2 ]]\n",
      "\n",
      "Custo total FS:\n",
      "[[2.8 3.8]\n",
      " [4.1 4. ]]\n"
     ]
    }
   ],
   "source": [
    "F = np.array([[6, 3, 10],\n",
    "              [4, 8,  5]])\n",
    "P = np.array([[0.10, 0.15],\n",
    "              [0.40, 0.30],\n",
    "              [0.10, 0.20]])\n",
    "\n",
    "print('Quant. frutas F:')\n",
    "print(F)\n",
    "print()\n",
    "print('Preços P:')\n",
    "print(P)\n",
    "print()\n",
    "print('Custo total FS:')\n",
    "print(F@P)"
   ]
  },
  {
   "cell_type": "code",
   "execution_count": 8,
   "metadata": {},
   "outputs": [
    {
     "name": "stdout",
     "output_type": "stream",
     "text": [
      "[[2.8 3.8]\n",
      " [4.1 4. ]]\n"
     ]
    }
   ],
   "source": [
    "print(F.dot(P))"
   ]
  },
  {
   "cell_type": "markdown",
   "metadata": {},
   "source": [
    "### Matriz inversa"
   ]
  },
  {
   "cell_type": "code",
   "execution_count": 9,
   "metadata": {},
   "outputs": [
    {
     "name": "stdout",
     "output_type": "stream",
     "text": [
      "H =\n",
      "[[1.    0.5   0.333 0.25  0.2  ]\n",
      " [0.5   0.333 0.25  0.2   0.167]\n",
      " [0.333 0.25  0.2   0.167 0.143]\n",
      " [0.25  0.2   0.167 0.143 0.125]\n",
      " [0.2   0.167 0.143 0.125 0.111]]\n",
      "\n",
      "inv(H) =\n",
      "[[ 2.500e+01 -3.000e+02  1.050e+03 -1.400e+03  6.300e+02]\n",
      " [-3.000e+02  4.800e+03 -1.890e+04  2.688e+04 -1.260e+04]\n",
      " [ 1.050e+03 -1.890e+04  7.938e+04 -1.176e+05  5.670e+04]\n",
      " [-1.400e+03  2.688e+04 -1.176e+05  1.792e+05 -8.820e+04]\n",
      " [ 6.300e+02 -1.260e+04  5.670e+04 -8.820e+04  4.410e+04]]\n",
      "\n",
      "H@inv(H) =\n",
      "[[ 1.000e+00 -5.037e-13  1.357e-12  4.760e-13 -2.380e-13]\n",
      " [ 1.312e-14  1.000e+00 -5.246e-13 -1.003e-12 -7.112e-13]\n",
      " [ 1.531e-14 -2.899e-13  1.000e+00  1.219e-12  4.298e-13]\n",
      " [ 0.000e+00 -2.274e-13  0.000e+00  1.000e+00  0.000e+00]\n",
      " [-7.278e-16  2.719e-14 -3.497e-13  1.150e-12  1.000e+00]]\n",
      "\n",
      "inv(H)@H =\n",
      "[[ 1.000e+00 -1.764e-13 -1.187e-13 -9.948e-14 -8.441e-14]\n",
      " [ 4.058e-13  1.000e+00  3.598e-13  4.547e-13  3.304e-13]\n",
      " [-4.464e-12 -3.556e-12  1.000e+00 -9.095e-13 -1.158e-12]\n",
      " [ 2.659e-12  1.422e-12  6.994e-13  1.000e+00  3.419e-13]\n",
      " [-2.380e-13  1.108e-12 -4.796e-13  0.000e+00  1.000e+00]]\n",
      "\n",
      "inv(inv(H)) =\n",
      "[[1.    0.5   0.333 0.25  0.2  ]\n",
      " [0.5   0.333 0.25  0.2   0.167]\n",
      " [0.333 0.25  0.2   0.167 0.143]\n",
      " [0.25  0.2   0.167 0.143 0.125]\n",
      " [0.2   0.167 0.143 0.125 0.111]]\n"
     ]
    }
   ],
   "source": [
    "from numpy.linalg import inv\n",
    "%precision 3\n",
    "\n",
    "H = np.array([[1/(i + j - 1) \n",
    "                for j in range(1, 6)] \n",
    "                    for i in range(1, 6)])\n",
    "\n",
    "print('H =')\n",
    "print(H)\n",
    "print()\n",
    "print('inv(H) =')\n",
    "print(inv(H))\n",
    "print()\n",
    "print('H@inv(H) =')\n",
    "print(H@inv(H))\n",
    "print()\n",
    "print('inv(H)@H =')\n",
    "print(inv(H)@H)\n",
    "print()\n",
    "print('inv(inv(H)) =')\n",
    "print(inv(inv(H)))"
   ]
  },
  {
   "cell_type": "markdown",
   "metadata": {},
   "source": [
    "Veteroes numpy"
   ]
  },
  {
   "cell_type": "code",
   "execution_count": null,
   "metadata": {},
   "outputs": [],
   "source": [
    "import numpy as np\n",
    "u = np.array ([3, 2])\n",
    "print(f'u    ={u}')\n",
    "v = np.array ([1, -1])\n",
    "print(f' u+v = {2*v}')"
   ]
  },
  {
   "cell_type": "code",
   "execution_count": null,
   "metadata": {},
   "outputs": [],
   "source": [
    "#Combinação linear\n",
    "v1 = np.array([1, 0, -1])\n",
    "v2 = np.array([2, -3, 1])\n",
    "v3 = np.array([5, -4, 0])\n",
    "print(f'v1 = {v1}')\n",
    "print(f'v2 = {v2}')\n",
    "print(f'v3 = {v3}')\n",
    "print()\n",
    "print(f'')"
   ]
  },
  {
   "cell_type": "code",
   "execution_count": 7,
   "metadata": {},
   "outputs": [
    {
     "name": "stdout",
     "output_type": "stream",
     "text": [
      "u = [ 1  2 -3]\n",
      "v = [-3  5  2]\n",
      "u.dot(v) = 1\n",
      "u@v = 1\n"
     ]
    }
   ],
   "source": [
    "#Produto escalar\n",
    "#dot faz multiplicação de matrizes\n",
    "u = np.array([ 1, 2, -3])\n",
    "v = np.array([-3, 5, 2])\n",
    "print(f'u = {u}')\n",
    "print(f'v = {v}')\n",
    "print(f'u.dot(v) = {u.dot(v)}')\n",
    "print(f'u@v = {u@v}')"
   ]
  },
  {
   "cell_type": "code",
   "execution_count": 8,
   "metadata": {},
   "outputs": [
    {
     "name": "stdout",
     "output_type": "stream",
     "text": [
      "v = [ 2 -1  3]\n",
      "norma(v) = 3.7416573867739413\n"
     ]
    }
   ],
   "source": [
    "#Norma ou módulo\n",
    "from numpy.linalg import norm\n",
    "v = np.array([2, -1, 3])\n",
    "print(f'v = {v}')\n",
    "print(f'norma(v) = {norm(v)}')\n"
   ]
  },
  {
   "cell_type": "code",
   "execution_count": 9,
   "metadata": {},
   "outputs": [
    {
     "name": "stdout",
     "output_type": "stream",
     "text": [
      "v = [ 2 -1  3]\n",
      " u = [ 0.53452248 -0.26726124  0.80178373]\n",
      "norm(u) = 1.0\n"
     ]
    }
   ],
   "source": [
    "#Normalização de vetores(encontrar um vetor unitario = 1)\n",
    "V = np.array([2, -1, 3])\n",
    "u = (1/norm(v))*v\n",
    "print(f'v = {v}')\n",
    "print(f' u = {u}')\n",
    "print(f'norm(u) = {norm(u)}')\n"
   ]
  },
  {
   "cell_type": "code",
   "execution_count": null,
   "metadata": {},
   "outputs": [],
   "source": []
  }
 ],
 "metadata": {
  "kernelspec": {
   "display_name": "Python 3 (ipykernel)",
   "language": "python",
   "name": "python3"
  },
  "language_info": {
   "codemirror_mode": {
    "name": "ipython",
    "version": 3
   },
   "file_extension": ".py",
   "mimetype": "text/x-python",
   "name": "python",
   "nbconvert_exporter": "python",
   "pygments_lexer": "ipython3",
   "version": "3.10.9"
  }
 },
 "nbformat": 4,
 "nbformat_minor": 4
}
