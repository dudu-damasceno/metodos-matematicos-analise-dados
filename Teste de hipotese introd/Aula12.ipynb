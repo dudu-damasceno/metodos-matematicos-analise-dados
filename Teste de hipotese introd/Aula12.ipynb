{
 "cells": [
  {
   "attachments": {},
   "cell_type": "markdown",
   "metadata": {},
   "source": [
    "Uma máquina produz perfumes com média de 150 ml e desvio padrão de 2 ml. Quatro frascos foram recolhidos ao acaso da produção e o volume médio desses 4 frascos foi 153,7 ml. Essa média permite dizer que a máquina está produzindo dentro da especificação? Realize o teste com nível de confinça de 95%."
   ]
  },
  {
   "attachments": {},
   "cell_type": "markdown",
   "metadata": {},
   "source": [
    "Hipótese nula: Volume médio = 150 ml  \\\n",
    "Hipótese alternativa: Volume médio != 150 ml  \\\n",
    "Alpha = 1 - 0,95 = 0,05  \\\n",
    "Z calc = (Média observada - média populacional) / (desvio padrão / raiz de n)"
   ]
  },
  {
   "cell_type": "code",
   "execution_count": 2,
   "metadata": {},
   "outputs": [],
   "source": [
    "import numpy as np\n",
    "import pandas as pd\n",
    "from scipy.stats import norm"
   ]
  },
  {
   "cell_type": "code",
   "execution_count": 3,
   "metadata": {},
   "outputs": [
    {
     "data": {
      "text/plain": [
       "3.8000000000000114"
      ]
     },
     "execution_count": 3,
     "metadata": {},
     "output_type": "execute_result"
    }
   ],
   "source": [
    "z_calc = (153.8 - 150) / (2/np.sqrt(4))\n",
    "z_calc"
   ]
  },
  {
   "attachments": {},
   "cell_type": "markdown",
   "metadata": {},
   "source": [
    "O Z CRITICO SERVE PARA MOSTRAR A PARTIR DE QUAL PONTO SUA HIPÓTESE ESTA INVALIDA, É AQUELAS BERADINHA                                                                                                                                                          O Z CALC SERVE PARA MOSTRAR ONDE SUA MEDIA ESTA PARA SABER SE ELA ESTA DENTRO OU FORA DA AREA PERMITIDA, SE ELA ESTIVER NA AREA DO Z CTRICIO, ELA N É VALIDA, SE ELA ESTIVAR NA AREA PERMITIDA A HIPOTESE NULA É VDD\n"
   ]
  },
  {
   "attachments": {},
   "cell_type": "markdown",
   "metadata": {},
   "source": [
    "norm.pdf(x, loc=0, scale=1) -- Probability density function \\\n",
    "norm.cdf(x, loc=0, scale=1) -- Cumulative distribution function (área à esquerda de x) \\\n",
    "norm.sf(x, loc=0, scale=1) -- Survival function (1 - cdf) \\\n",
    "norm.ppf(x, loc=0, scale=1) -- Percent point function (inversa de cdf - percentil) \\\n",
    "norm.isf(x, loc=0, scale=1) -- Inverse survival function (inversa de sf)"
   ]
  },
  {
   "cell_type": "code",
   "execution_count": 4,
   "metadata": {},
   "outputs": [
    {
     "data": {
      "text/plain": [
       "0.024997895148220435"
      ]
     },
     "execution_count": 4,
     "metadata": {},
     "output_type": "execute_result"
    }
   ],
   "source": [
    "norm.cdf(-1.96)"
   ]
  },
  {
   "cell_type": "code",
   "execution_count": 5,
   "metadata": {},
   "outputs": [
    {
     "data": {
      "text/plain": [
       "-1.9599639845400545"
      ]
     },
     "execution_count": 5,
     "metadata": {},
     "output_type": "execute_result"
    }
   ],
   "source": [
    "norm.ppf(0.025)"
   ]
  },
  {
   "cell_type": "code",
   "execution_count": 6,
   "metadata": {},
   "outputs": [
    {
     "data": {
      "text/plain": [
       "0.024997895148220435"
      ]
     },
     "execution_count": 6,
     "metadata": {},
     "output_type": "execute_result"
    }
   ],
   "source": [
    "norm.sf(1.96)"
   ]
  },
  {
   "cell_type": "code",
   "execution_count": 7,
   "metadata": {},
   "outputs": [
    {
     "data": {
      "text/plain": [
       "1.9599639845400545"
      ]
     },
     "execution_count": 7,
     "metadata": {},
     "output_type": "execute_result"
    }
   ],
   "source": [
    "norm.isf(0.025)"
   ]
  },
  {
   "cell_type": "code",
   "execution_count": 8,
   "metadata": {},
   "outputs": [
    {
     "data": {
      "text/plain": [
       "2.575829303548901"
      ]
     },
     "execution_count": 8,
     "metadata": {},
     "output_type": "execute_result"
    }
   ],
   "source": [
    "norm.isf(0.005)"
   ]
  },
  {
   "cell_type": "code",
   "execution_count": 9,
   "metadata": {},
   "outputs": [
    {
     "data": {
      "text/plain": [
       "0.005012004331761333"
      ]
     },
     "execution_count": 9,
     "metadata": {},
     "output_type": "execute_result"
    }
   ],
   "source": [
    "norm.sf(2.575)"
   ]
  },
  {
   "attachments": {},
   "cell_type": "markdown",
   "metadata": {},
   "source": [
    "Suponha que uma máquina evase perfumes com média u=250ml e desvio padrao de 4ml.\n",
    "    A fábrica decidiu realizar um teste de hipótese com erro a = 0.07.\n",
    "\n",
    "a) Obtenha o z crítico para esse teste. \n",
    "b) Considere que tenha sido tomado única amostra contendo 256.4 ml. Obtenha o z calc e informe o resultado do teste. \n",
    "c) Considere que tenham sido tomados 4 amostras e a média obtido foi 244.6 ml. Obtenha o zcalculo e informe o resultado do teste. \n",
    "d) Considere que tenham sido tomados 6 amostras e a média obtida foi 244.6 ml. Obtenha o z calc e informe o resultado do teste."
   ]
  },
  {
   "cell_type": "code",
   "execution_count": 10,
   "metadata": {},
   "outputs": [
    {
     "data": {
      "text/plain": [
       "(2, 7)"
      ]
     },
     "execution_count": 10,
     "metadata": {},
     "output_type": "execute_result"
    }
   ],
   "source": [
    "2,7"
   ]
  },
  {
   "cell_type": "code",
   "execution_count": 22,
   "metadata": {},
   "outputs": [
    {
     "data": {
      "text/plain": [
       "1.5999999999999943"
      ]
     },
     "execution_count": 22,
     "metadata": {},
     "output_type": "execute_result"
    }
   ],
   "source": [
    "z_calcu = (256.4-250) / (4/np.sqrt(1))\n",
    "z_calcu"
   ]
  },
  {
   "cell_type": "code",
   "execution_count": 21,
   "metadata": {},
   "outputs": [
    {
     "data": {
      "text/plain": [
       "-3.3068111527572936"
      ]
     },
     "execution_count": 21,
     "metadata": {},
     "output_type": "execute_result"
    }
   ],
   "source": [
    "letra_d = None\n",
    "z_calcu = (244.6 - 250) / (4/np.sqrt(6))\n",
    "z_calcu"
   ]
  },
  {
   "cell_type": "code",
   "execution_count": 23,
   "metadata": {},
   "outputs": [
    {
     "data": {
      "text/plain": [
       "-2.700000000000003"
      ]
     },
     "execution_count": 23,
     "metadata": {},
     "output_type": "execute_result"
    }
   ],
   "source": [
    "z_calcu = (244.6-250) / (4/np.sqrt(4))\n",
    "z_calcu"
   ]
  }
 ],
 "metadata": {
  "kernelspec": {
   "display_name": "base",
   "language": "python",
   "name": "python3"
  },
  "language_info": {
   "codemirror_mode": {
    "name": "ipython",
    "version": 3
   },
   "file_extension": ".py",
   "mimetype": "text/x-python",
   "name": "python",
   "nbconvert_exporter": "python",
   "pygments_lexer": "ipython3",
   "version": "3.10.9"
  },
  "orig_nbformat": 4
 },
 "nbformat": 4,
 "nbformat_minor": 2
}
