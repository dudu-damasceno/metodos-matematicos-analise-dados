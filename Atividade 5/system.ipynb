{
 "cells": [
  {
   "cell_type": "code",
   "execution_count": 12,
   "metadata": {},
   "outputs": [
    {
     "name": "stdout",
     "output_type": "stream",
     "text": [
      "Entre com os elementos da matriz de coeficientes do sistema linear:\n",
      "Entre com os elementos dos termos independentes de cada equação:\n",
      "\n",
      "\n",
      "[0][0] = 3.0 | [0][1] = 30.0 [0][1] = 4.0 | [0][2] = 30.0 [0][2] = 5.0 | [0][3] = 30.0 \n",
      "\n",
      "[1][0] = 35.0 | [1][1] = 37.0 [1][1] = 42.0 | [1][2] = 37.0 [1][2] = 64.0 | [1][3] = 37.0 \n",
      "\n",
      "[2][0] = 22.0 | [2][1] = 42.0 [2][1] = 10.0 | [2][2] = 42.0 [2][2] = 12.0 | [2][3] = 42.0 \n",
      "Solução do sistema:\n",
      "x[0] = -3.0771513353115814\n",
      "x[1] = 38.8545994065282\n",
      "x[2] = -23.23738872403561\n"
     ]
    }
   ],
   "source": [
    "import numpy as np\n",
    "\n",
    "def gaussian_elimination(A, b):\n",
    "    n = len(A)\n",
    "    augmented_matrix = np.concatenate((A, b.reshape(n, 1)), axis=1)\n",
    "\n",
    "    # Escalonamento da matriz expandida\n",
    "    for k in range(n - 1):\n",
    "        # Pivoteamento de linhas\n",
    "        max_row = np.argmax(np.abs(augmented_matrix[k:, k])) + k\n",
    "        augmented_matrix[[k, max_row]] = augmented_matrix[[max_row, k]]\n",
    "\n",
    "        for i in range(k + 1, n):\n",
    "            m = augmented_matrix[i, k] / augmented_matrix[k, k]\n",
    "            augmented_matrix[i, k] = 0\n",
    "            augmented_matrix[i, k + 1:] -= m * augmented_matrix[k, k + 1:]\n",
    "\n",
    "    # Resolução do sistema triangular\n",
    "    x = np.zeros(n)\n",
    "    x[n - 1] = augmented_matrix[n - 1, n] / augmented_matrix[n - 1, n - 1]\n",
    "\n",
    "    for i in range(n - 2, -1, -1):\n",
    "        S = np.dot(augmented_matrix[i, i + 1:n], x[i + 1:n])\n",
    "        x[i] = (-S + augmented_matrix[i, n]) / augmented_matrix[i, i]\n",
    "\n",
    "    return x\n",
    "\n",
    "def main():\n",
    "    n = int(input(\"Entre com a ordem da matriz de coeficientes do sistema linear: \"))\n",
    "    A = np.zeros((n, n))\n",
    "    b = np.zeros(n)\n",
    "\n",
    "    print(\"Entre com os elementos da matriz de coeficientes do sistema linear:\")\n",
    "    for i in range(n):\n",
    "        for j in range(n):\n",
    "            A[i, j] = float(input(f\"A[{i}][{j}] = \"))\n",
    "\n",
    "    print(\"Entre com os elementos dos termos independentes de cada equação:\")\n",
    "    for i in range(n):\n",
    "        b[i] = float(input(f\"b[{i}] = \"))\n",
    "\n",
    "    for i in range(n):\n",
    "        print('\\n')\n",
    "        for j in range(n):\n",
    "            print(f\"[{i}][{j}] = {A[i][j]} | [{i}][{j+1}] = {b[i]}\", end=\" \")\n",
    "\n",
    "    solution = gaussian_elimination(A, b)\n",
    "\n",
    "    print(\"\\nSolução do sistema:\")\n",
    "    for i, sol in enumerate(solution):\n",
    "        print(f\"x[{i}] = {sol}\")\n",
    "\n",
    "if __name__ == '__main__':\n",
    "    main()\n"
   ]
  }
 ],
 "metadata": {
  "kernelspec": {
   "display_name": "Python 3",
   "language": "python",
   "name": "python3"
  },
  "language_info": {
   "codemirror_mode": {
    "name": "ipython",
    "version": 3
   },
   "file_extension": ".py",
   "mimetype": "text/x-python",
   "name": "python",
   "nbconvert_exporter": "python",
   "pygments_lexer": "ipython3",
   "version": "3.10.9"
  },
  "orig_nbformat": 4
 },
 "nbformat": 4,
 "nbformat_minor": 2
}
