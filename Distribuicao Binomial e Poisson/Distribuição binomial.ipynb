{
 "cells": [
  {
   "attachments": {},
   "cell_type": "markdown",
   "metadata": {},
   "source": [
    "## Distribuição Binomial \n",
    "Na distribuição binomial temos sempre duas possibilidades de resultado (sucesso ou fracasso, cara ou coroa, etc.). Podemos então utilizar a distribuição binomial para simular o lançamento de uma moeda."
   ]
  },
  {
   "cell_type": "code",
   "execution_count": 6,
   "metadata": {},
   "outputs": [
    {
     "data": {
      "text/plain": [
       "1"
      ]
     },
     "execution_count": 6,
     "metadata": {},
     "output_type": "execute_result"
    }
   ],
   "source": [
    "import numpy as np\n",
    "np.random.binomial(1, 0.5)"
   ]
  },
  {
   "attachments": {},
   "cell_type": "markdown",
   "metadata": {},
   "source": [
    "Como simular o lançamento de duas moedas?"
   ]
  },
  {
   "cell_type": "code",
   "execution_count": 12,
   "metadata": {},
   "outputs": [
    {
     "data": {
      "text/plain": [
       "1"
      ]
     },
     "execution_count": 12,
     "metadata": {},
     "output_type": "execute_result"
    }
   ],
   "source": [
    "np.random.binomial(2, 0.5)"
   ]
  },
  {
   "attachments": {},
   "cell_type": "markdown",
   "metadata": {},
   "source": [
    "E se eu quiser simular 1.000 lançamentos de duas moedas?"
   ]
  },
  {
   "cell_type": "code",
   "execution_count": 15,
   "metadata": {},
   "outputs": [
    {
     "data": {
      "text/plain": [
       "array([1, 1, 0, 1, 1, 0, 1, 0, 0, 1, 0, 1, 2, 1, 1, 1, 1, 0, 1, 1, 2, 1,\n",
       "       1, 1, 2, 1, 1, 0, 2, 2, 2, 2, 1, 1, 1, 1, 1, 1, 1, 0, 1, 0, 0, 0,\n",
       "       2, 1, 1, 1, 0, 0, 1, 0, 1, 0, 0, 1, 1, 1, 0, 1, 1, 1, 1, 0, 1, 2,\n",
       "       1, 1, 0, 1, 1, 1, 1, 2, 1, 1, 2, 0, 2, 1, 2, 1, 1, 1, 2, 2, 1, 0,\n",
       "       0, 2, 0, 1, 0, 0, 1, 1, 1, 1, 1, 1, 1, 2, 1, 1, 2, 1, 1, 1, 2, 1,\n",
       "       1, 1, 2, 1, 1, 2, 1, 2, 1, 0, 1, 0, 0, 0, 0, 0, 1, 1, 0, 1, 1, 1,\n",
       "       0, 1, 0, 2, 2, 1, 1, 2, 0, 0, 1, 1, 1, 2, 1, 2, 1, 0, 2, 2, 1, 1,\n",
       "       1, 0, 1, 0, 1, 1, 0, 2, 1, 1, 1, 1, 2, 1, 0, 2, 1, 1, 1, 1, 1, 1,\n",
       "       0, 2, 1, 2, 1, 1, 0, 1, 2, 1, 1, 2, 2, 1, 0, 1, 0, 1, 1, 2, 0, 2,\n",
       "       2, 1, 1, 2, 1, 1, 1, 2, 2, 1, 0, 1, 0, 1, 2, 1, 2, 2, 2, 2, 1, 1,\n",
       "       0, 1, 1, 2, 2, 0, 1, 2, 0, 2, 2, 2, 1, 0, 1, 0, 2, 0, 0, 1, 0, 1,\n",
       "       1, 1, 1, 1, 1, 2, 2, 1, 1, 1, 0, 1, 2, 1, 1, 1, 2, 1, 0, 1, 0, 0,\n",
       "       0, 1, 2, 1, 2, 1, 0, 0, 1, 2, 1, 2, 1, 1, 1, 1, 0, 2, 1, 0, 1, 0,\n",
       "       1, 0, 2, 2, 2, 0, 1, 1, 1, 0, 1, 0, 1, 0, 1, 0, 1, 2, 1, 1, 1, 2,\n",
       "       1, 0, 1, 2, 1, 1, 1, 0, 0, 0, 0, 1, 1, 1, 2, 2, 2, 0, 2, 0, 0, 1,\n",
       "       1, 0, 2, 2, 1, 1, 2, 1, 2, 1, 1, 2, 0, 0, 1, 1, 0, 1, 2, 2, 2, 0,\n",
       "       2, 2, 1, 1, 2, 1, 2, 1, 1, 1, 1, 0, 0, 2, 2, 1, 2, 0, 1, 1, 1, 1,\n",
       "       0, 1, 1, 1, 1, 0, 0, 0, 1, 2, 1, 1, 1, 2, 1, 1, 2, 1, 0, 1, 1, 1,\n",
       "       0, 1, 0, 1, 2, 2, 1, 2, 0, 1, 1, 0, 1, 1, 2, 2, 0, 1, 1, 1, 0, 0,\n",
       "       1, 1, 1, 1, 1, 2, 0, 2, 1, 1, 1, 1, 2, 2, 1, 0, 1, 1, 2, 1, 1, 1,\n",
       "       2, 1, 1, 2, 1, 1, 0, 2, 0, 1, 1, 0, 2, 2, 0, 0, 1, 0, 2, 2, 1, 2,\n",
       "       1, 1, 1, 0, 1, 1, 2, 1, 2, 2, 2, 1, 1, 0, 1, 1, 2, 0, 1, 2, 1, 1,\n",
       "       1, 1, 2, 1, 1, 1, 1, 1, 1, 2, 2, 1, 0, 0, 1, 2, 2, 0, 1, 1, 0, 1,\n",
       "       2, 1, 1, 1, 0, 1, 1, 2, 2, 1, 1, 1, 1, 1, 1, 2, 2, 0, 2, 2, 1, 1,\n",
       "       1, 1, 1, 1, 2, 2, 1, 1, 0, 0, 0, 1, 1, 1, 1, 1, 2, 2, 2, 1, 1, 1,\n",
       "       1, 2, 1, 2, 0, 1, 1, 2, 2, 2, 1, 0, 0, 1, 1, 0, 2, 1, 0, 1, 1, 2,\n",
       "       1, 0, 1, 0, 1, 2, 1, 2, 0, 0, 1, 0, 1, 2, 0, 0, 1, 0, 2, 1, 1, 0,\n",
       "       0, 1, 2, 1, 0, 1, 0, 2, 1, 1, 1, 2, 2, 0, 2, 2, 2, 1, 0, 1, 1, 1,\n",
       "       1, 0, 2, 1, 0, 0, 2, 2, 2, 2, 1, 1, 2, 2, 2, 1, 1, 0, 1, 1, 0, 1,\n",
       "       0, 2, 1, 1, 1, 2, 0, 1, 2, 0, 1, 1, 2, 2, 1, 0, 1, 2, 0, 2, 2, 2,\n",
       "       2, 0, 2, 1, 1, 1, 1, 1, 1, 2, 1, 1, 1, 1, 2, 2, 1, 1, 2, 1, 2, 2,\n",
       "       2, 2, 2, 1, 0, 2, 2, 2, 1, 1, 1, 0, 1, 0, 2, 1, 2, 2, 2, 1, 1, 0,\n",
       "       2, 2, 2, 2, 0, 2, 1, 0, 2, 1, 0, 1, 1, 0, 1, 1, 1, 2, 0, 1, 2, 1,\n",
       "       1, 1, 1, 2, 1, 2, 0, 2, 2, 1, 2, 1, 2, 0, 0, 2, 0, 0, 0, 1, 0, 1,\n",
       "       2, 2, 2, 1, 0, 1, 2, 1, 1, 1, 2, 1, 1, 0, 2, 1, 0, 1, 0, 1, 1, 2,\n",
       "       0, 1, 0, 2, 1, 0, 0, 1, 0, 0, 1, 1, 1, 1, 0, 0, 1, 0, 0, 0, 2, 0,\n",
       "       2, 2, 1, 0, 1, 1, 2, 0, 1, 1, 2, 0, 2, 1, 1, 1, 0, 1, 1, 0, 0, 0,\n",
       "       0, 1, 0, 2, 1, 1, 2, 1, 1, 1, 2, 1, 0, 1, 0, 2, 0, 1, 1, 1, 1, 1,\n",
       "       2, 1, 1, 1, 2, 1, 1, 1, 2, 0, 2, 2, 1, 1, 2, 1, 2, 0, 0, 2, 1, 1,\n",
       "       0, 0, 1, 1, 0, 1, 0, 0, 0, 0, 2, 1, 0, 0, 2, 1, 1, 0, 1, 1, 2, 2,\n",
       "       0, 1, 1, 0, 1, 1, 2, 1, 2, 1, 1, 1, 0, 1, 2, 1, 0, 1, 1, 0, 1, 1,\n",
       "       1, 2, 1, 0, 1, 2, 1, 1, 1, 1, 1, 1, 2, 2, 2, 2, 1, 2, 1, 1, 1, 1,\n",
       "       1, 2, 2, 0, 0, 1, 2, 2, 1, 0, 0, 0, 2, 0, 0, 2, 1, 1, 2, 1, 2, 2,\n",
       "       0, 1, 1, 2, 1, 1, 1, 2, 2, 1, 2, 1, 2, 2, 0, 1, 0, 1, 0, 2, 1, 0,\n",
       "       0, 2, 2, 0, 0, 1, 1, 0, 1, 1, 1, 1, 1, 0, 1, 0, 0, 1, 1, 1, 1, 1,\n",
       "       2, 1, 1, 1, 0, 1, 0, 0, 2, 2])"
      ]
     },
     "execution_count": 15,
     "metadata": {},
     "output_type": "execute_result"
    }
   ],
   "source": [
    "np.random.binomial(2, 0.5, 1000)"
   ]
  },
  {
   "attachments": {},
   "cell_type": "markdown",
   "metadata": {},
   "source": [
    "Vamos agora guardar o resultado obtido numa variável e analisar esse resultado. Vimos, na parte teórica que se lançarmos duas moedas temos as seguintes probabilidades: \\\n",
    "0 caras -> P(0) = 0,25 \\\n",
    "1 cara  -> P(1) = 0,5 \\\n",
    "2 caras -> P(2) = 0,25 \\\n",
    "Vamos plotar o resultado de 1.000 lançamentos e analisar esse resultado."
   ]
  },
  {
   "cell_type": "code",
   "execution_count": 16,
   "metadata": {},
   "outputs": [
    {
     "data": {
      "image/png": "[encoded data removed]",
      "text/plain": [
       "<Figure size 640x480 with 1 Axes>"
      ]
     },
     "metadata": {},
     "output_type": "display_data"
    }
   ],
   "source": [
    "mil = np.random.binomial(2, 0.5,1000)\n",
    "import matplotlib.pyplot as plt\n",
    "import seaborn as sns\n",
    "sns.set_theme(style=\"whitegrid\")\n",
    "sns.countplot(x=mil)\n",
    "plt.show()"
   ]
  },
  {
   "attachments": {},
   "cell_type": "markdown",
   "metadata": {},
   "source": [
    "Vamos agora simular mil jogos de 10 moedas."
   ]
  },
  {
   "cell_type": "code",
   "execution_count": 17,
   "metadata": {},
   "outputs": [
    {
     "data": {
      "image/png": "[encoded data removed]",
      "text/plain": [
       "<Figure size 640x480 with 1 Axes>"
      ]
     },
     "metadata": {},
     "output_type": "display_data"
    }
   ],
   "source": [
    "mil2 = np.random.binomial(10, 0.5, 1000)\n",
    "import matplotlib.pyplot as plt\n",
    "import seaborn as sns\n",
    "sns.set_theme(style=\"whitegrid\")\n",
    "sns.countplot(x=mil2)\n",
    "plt.show()"
   ]
  },
  {
   "attachments": {},
   "cell_type": "markdown",
   "metadata": {},
   "source": [
    "Considere agora o seguinte problema: \\\n",
    "Uma manufatura tem uma taxa de defeitos de 12% na sua produção. Um comprador decide testar uma amostra de 20 peças aleatórias e só comprará da manufatura se encontrar duas ou menos peças defeituosas na amostra. Qual é a probabilidade de que a compra ocorra?"
   ]
  },
  {
   "attachments": {},
   "cell_type": "markdown",
   "metadata": {},
   "source": [
    "Na parte teórica, vimos que existem fórmulas matemáticas para realizar este cálculo. A linguagem Python provê o pacote SciPy para realizar esses cálculos. Veremos a seguir como usar o Scipy para resolver o problema acima."
   ]
  },
  {
   "cell_type": "code",
   "execution_count": 19,
   "metadata": {},
   "outputs": [],
   "source": [
    "from scipy.stats import binom\n",
    "import numpy as np"
   ]
  },
  {
   "attachments": {},
   "cell_type": "markdown",
   "metadata": {},
   "source": [
    "Para obter a probabilidade de que a compra ocorra, vamos utilizar a função cdf -- cumulative distribution function. Estamos usando essa função porque queremos calcular a probabilidade de termos até 2 peças defeituosas, ou seja, P(0) + P(1) + P(2) => portanto estamos acumulando (somando) as probabilidades. \\\n",
    "A função cdf tem 3 parâmetros: \\\n",
    "k - número máximo de peças defeituosas (cumulativo) \\\n",
    "n - número de peças da amostra \\\n",
    "p - probabilidade de peças defeituosas "
   ]
  },
  {
   "cell_type": "code",
   "execution_count": 20,
   "metadata": {},
   "outputs": [
    {
     "data": {
      "text/plain": [
       "0.5631315224061946"
      ]
     },
     "execution_count": 20,
     "metadata": {},
     "output_type": "execute_result"
    }
   ],
   "source": [
    "binom.cdf(2, 20, 0.12)"
   ]
  },
  {
   "attachments": {},
   "cell_type": "markdown",
   "metadata": {},
   "source": [
    "E se quisermos descobrir a probabilidade de obtermos *exatamente* 2 peças defeituosas na amostra? \\\n",
    "Para tanto basta usar a função pmf -- probability mass function -- a qual tem os mesmos parâmetros que a função cdf."
   ]
  },
  {
   "cell_type": "code",
   "execution_count": 21,
   "metadata": {},
   "outputs": [
    {
     "data": {
      "text/plain": [
       "0.27403383702748796"
      ]
     },
     "execution_count": 21,
     "metadata": {},
     "output_type": "execute_result"
    }
   ],
   "source": [
    "binom.pmf(2, 20, 0.12)"
   ]
  },
  {
   "attachments": {},
   "cell_type": "markdown",
   "metadata": {},
   "source": [
    "Para calcularmos o número médio de peças defeituosas por amostra, basta usar a função mean, com os parâmetros n e p."
   ]
  },
  {
   "cell_type": "code",
   "execution_count": 22,
   "metadata": {},
   "outputs": [
    {
     "data": {
      "text/plain": [
       "2.4"
      ]
     },
     "execution_count": 22,
     "metadata": {},
     "output_type": "execute_result"
    }
   ],
   "source": [
    "binom.mean(20, 0.12)"
   ]
  },
  {
   "attachments": {},
   "cell_type": "markdown",
   "metadata": {},
   "source": [
    "De forma similar, podemos obter o desvio padrão e a variância com as funções std e var."
   ]
  },
  {
   "cell_type": "code",
   "execution_count": 23,
   "metadata": {},
   "outputs": [
    {
     "data": {
      "text/plain": [
       "1.453272169966796"
      ]
     },
     "execution_count": 23,
     "metadata": {},
     "output_type": "execute_result"
    }
   ],
   "source": [
    "binom.std(20, 0.12)"
   ]
  },
  {
   "cell_type": "code",
   "execution_count": 24,
   "metadata": {},
   "outputs": [
    {
     "data": {
      "text/plain": [
       "2.112"
      ]
     },
     "execution_count": 24,
     "metadata": {},
     "output_type": "execute_result"
    }
   ],
   "source": [
    "binom.var(20, 0.12)"
   ]
  },
  {
   "attachments": {},
   "cell_type": "markdown",
   "metadata": {},
   "source": [
    "Suponha agora que queremos obter a probabilidade de obtermos 2 ou mais peças defeituosas na amostra. \\\n",
    "Existem duas possibilidades para isso: \n",
    "1) fazer 1 menos a probabilidade que calculamos \n",
    "2) utilizar a função sf -- survival function"
   ]
  },
  {
   "cell_type": "code",
   "execution_count": 25,
   "metadata": {},
   "outputs": [
    {
     "data": {
      "text/plain": [
       "0.4368684775938054"
      ]
     },
     "execution_count": 25,
     "metadata": {},
     "output_type": "execute_result"
    }
   ],
   "source": [
    "1 - binom.cdf(2, 20, 0.12)"
   ]
  },
  {
   "cell_type": "code",
   "execution_count": 26,
   "metadata": {},
   "outputs": [
    {
     "data": {
      "text/plain": [
       "0.4368684775938054"
      ]
     },
     "execution_count": 26,
     "metadata": {},
     "output_type": "execute_result"
    }
   ],
   "source": [
    "binom.sf(2, 20, 0.12)"
   ]
  },
  {
   "attachments": {},
   "cell_type": "markdown",
   "metadata": {},
   "source": [
    "Suponha agora que eu queira plotar um gráfico que mostre a probabilidade de ter 1, 2, 3, ... 20 peças defeituosas. Isto recebe o nome de distribuição de probabilidade. Vejamos como fazer isso."
   ]
  },
  {
   "cell_type": "code",
   "execution_count": 29,
   "metadata": {},
   "outputs": [
    {
     "data": {
      "text/plain": [
       "array([ 0,  1,  2,  3,  4,  5,  6,  7,  8,  9, 10, 11, 12, 13, 14, 15, 16,\n",
       "       17, 18, 19, 20])"
      ]
     },
     "execution_count": 29,
     "metadata": {},
     "output_type": "execute_result"
    }
   ],
   "source": [
    "eixo_x = np.arange(0, 21)\n",
    "eixo_x"
   ]
  },
  {
   "cell_type": "code",
   "execution_count": 31,
   "metadata": {},
   "outputs": [
    {
     "data": {
      "text/plain": [
       "array([7.75627936e-02, 2.11534892e-01, 2.74033837e-01, 2.24209503e-01,\n",
       "       1.29939598e-01, 5.67009156e-02, 1.93298576e-02, 5.27177935e-03,\n",
       "       1.16817838e-03, 2.12396069e-04, 3.18594103e-05, 3.94951367e-06,\n",
       "       4.03927535e-07, 3.38960169e-08, 2.31109206e-09, 1.26059567e-10,\n",
       "       5.37185655e-12, 1.72359034e-13, 3.91725077e-15, 5.62284799e-17,\n",
       "       3.83375999e-19])"
      ]
     },
     "execution_count": 31,
     "metadata": {},
     "output_type": "execute_result"
    }
   ],
   "source": [
    "eixo_y = binom.pmf(eixo_x, 20, 0.12)\n",
    "eixo_y"
   ]
  },
  {
   "cell_type": "code",
   "execution_count": 33,
   "metadata": {},
   "outputs": [
    {
     "data": {
      "image/png": "[encoded data removed]",
      "text/plain": [
       "<Figure size 640x480 with 1 Axes>"
      ]
     },
     "metadata": {},
     "output_type": "display_data"
    }
   ],
   "source": [
    "sns.barplot(x=eixo_x, y=eixo_y)\n",
    "plt.show()"
   ]
  },
  {
   "attachments": {},
   "cell_type": "markdown",
   "metadata": {},
   "source": [
    "Podemos também fazer um gráfico mostrando a probabilidade cumulativa."
   ]
  },
  {
   "cell_type": "code",
   "execution_count": 34,
   "metadata": {},
   "outputs": [
    {
     "data": {
      "image/png": "[encoded data removed]",
      "text/plain": [
       "<Figure size 640x480 with 1 Axes>"
      ]
     },
     "metadata": {},
     "output_type": "display_data"
    }
   ],
   "source": [
    "eixo_y = binom.cdf(eixo_x, 20, 0.12)\n",
    "sns.barplot(x=eixo_x, y=eixo_y)\n",
    "plt.show()"
   ]
  },
  {
   "attachments": {},
   "cell_type": "markdown",
   "metadata": {},
   "source": [
    "Vamos agora realizar um experimento para confirmar as probabilidades calculadas. Inicialmente vamos analisar o resultado de 10 amostras e checar o número de peças defeituosas em cada amostra."
   ]
  },
  {
   "cell_type": "code",
   "execution_count": 37,
   "metadata": {},
   "outputs": [
    {
     "data": {
      "text/plain": [
       "array([2, 2, 2, 2, 4, 0, 2, 2, 3, 2])"
      ]
     },
     "execution_count": 37,
     "metadata": {},
     "output_type": "execute_result"
    }
   ],
   "source": [
    "vet = np.random.binomial(20, 0.12, 10)\n",
    "vet"
   ]
  },
  {
   "attachments": {},
   "cell_type": "markdown",
   "metadata": {},
   "source": [
    "Agora vamos gerar um vetor com o resultado de 1.000 amostras e utilizar esse vetor para plotar um gráfico."
   ]
  },
  {
   "cell_type": "code",
   "execution_count": 20,
   "metadata": {},
   "outputs": [
    {
     "data": {
      "text/plain": [
       "<Axes: ylabel='count'>"
      ]
     },
     "execution_count": 20,
     "metadata": {},
     "output_type": "execute_result"
    },
    {
     "data": {
      "image/png": "[encoded data removed]",
      "text/plain": [
       "<Figure size 640x480 with 1 Axes>"
      ]
     },
     "metadata": {},
     "output_type": "display_data"
    }
   ],
   "source": [
    "vet = np.random.binomial(20, 0.12, 1000)\n",
    "sns.countplot(x=vet)"
   ]
  },
  {
   "attachments": {},
   "cell_type": "markdown",
   "metadata": {},
   "source": [
    "Exercício 1 \\\n",
    "Se jogarmos uma moeda 10 vezes, qual é a probabilidade de aparecer exatamente 7 caras?"
   ]
  },
  {
   "cell_type": "code",
   "execution_count": 38,
   "metadata": {},
   "outputs": [
    {
     "data": {
      "text/plain": [
       "0.11718749999999999"
      ]
     },
     "execution_count": 38,
     "metadata": {},
     "output_type": "execute_result"
    }
   ],
   "source": [
    "binom.pmf(7, 10, 0.5)"
   ]
  },
  {
   "attachments": {},
   "cell_type": "markdown",
   "metadata": {},
   "source": [
    "Exercício 2 \\\n",
    "Se jogarmos uma moeda 10 vezes, qual é a probabilidade de aparecer exatamente 7 ou mais caras?"
   ]
  },
  {
   "cell_type": "code",
   "execution_count": 41,
   "metadata": {},
   "outputs": [
    {
     "data": {
      "text/plain": [
       "0.171875"
      ]
     },
     "execution_count": 41,
     "metadata": {},
     "output_type": "execute_result"
    }
   ],
   "source": [
    "binom.sf(6, 10, 0.5)"
   ]
  },
  {
   "attachments": {},
   "cell_type": "markdown",
   "metadata": {},
   "source": [
    "Exercício 3 \\\n",
    "4 peças foram selecionadas de um lote cuja probabilidade de defeito é de 10%. Qual é a probabilidade de termos 0 peças defeituosas na seleção?"
   ]
  },
  {
   "cell_type": "code",
   "execution_count": 23,
   "metadata": {},
   "outputs": [
    {
     "data": {
      "text/plain": [
       "0.6561"
      ]
     },
     "execution_count": 23,
     "metadata": {},
     "output_type": "execute_result"
    }
   ],
   "source": [
    "binom.pmf(0, 4, 0.1)"
   ]
  },
  {
   "attachments": {},
   "cell_type": "markdown",
   "metadata": {},
   "source": [
    "Exercício 4\n",
    "Plote um gráfico que exiba a distribuição de probabilidade do problema descrito no exercício 3."
   ]
  },
  {
   "cell_type": "code",
   "execution_count": 24,
   "metadata": {},
   "outputs": [
    {
     "data": {
      "image/png": "[encoded data removed]",
      "text/plain": [
       "<Figure size 640x480 with 1 Axes>"
      ]
     },
     "metadata": {},
     "output_type": "display_data"
    }
   ],
   "source": [
    "eixo_x = np.arange(0, 5)\n",
    "eixo_y = binom.pmf(eixo_x, 4, 0.1)\n",
    "sns.barplot(x=eixo_x, y=eixo_y)\n",
    "plt.show()"
   ]
  }
 ],
 "metadata": {
  "kernelspec": {
   "display_name": "base",
   "language": "python",
   "name": "python3"
  },
  "language_info": {
   "codemirror_mode": {
    "name": "ipython",
    "version": 3
   },
   "file_extension": ".py",
   "mimetype": "text/x-python",
   "name": "python",
   "nbconvert_exporter": "python",
   "pygments_lexer": "ipython3",
   "version": "3.10.13"
  },
  "orig_nbformat": 4,
  "vscode": {
   "interpreter": {
    "hash": "375cb2be7c48c11bb855aa4c37dc6c17bef886eb77cae35fc21e121628c6e1e2"
   }
  }
 },
 "nbformat": 4,
 "nbformat_minor": 2
}
